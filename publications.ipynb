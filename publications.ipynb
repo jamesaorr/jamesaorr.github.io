{
  "cells": [
    {
      "cell_type": "raw",
      "metadata": {},
      "source": [
        "---\n",
        "title: \"Publications\"\n",
        "listing:\n",
        "  contents: posts\n",
        "  type: default\n",
        "  sort:\n",
        "    - \"date\"\n",
        "    - \"title desc\"\n",
        "  categories: true \n",
        "---"
      ],
      "id": "a73dbc70"
    },
    {
      "cell_type": "markdown",
      "metadata": {},
      "source": [
        "```{list}\n",
        "numbered: true\n",
        "format: \"html\"\n",
        "\n",
        "- title: \"First Research Paper\"\n",
        "  authors: \"Author A, Author B\"\n",
        "  journal: \"Journal of Cool Science\"\n",
        "  year: 2021\n",
        "  doi: \"https://doi.org/10.1000/j.jcs.2021.01.001\"\n",
        "\n",
        "- title: \"Second Research Paper\"\n",
        "  authors: \"Author C, Author D\"\n",
        "  journal: \"Ecology Journal\"\n",
        "  year: 2020\n",
        "  doi: \"https://doi.org/10.1000/j.ej.2020.02.002\"\n",
        "\n",
        "- title: \"Third Research Paper\"\n",
        "  authors: \"Author E, Author F\"\n",
        "  journal: \"Microbial Research\"\n",
        "  year: 2022\n",
        "  doi: \"https://doi.org/10.1000/j.mr.2022.03.003\"\n",
        "\n",
        "- title: \"Fourth Research Paper\"\n",
        "  authors: \"Author G, Author H\"\n",
        "  journal: \"Theoretical Biology\"\n",
        "  year: 2019\n",
        "  doi: \"https://doi.org/10.1000/j.tb.2019.04.004\"\n",
        "\n",
        "- title: \"Fifth Research Paper\"\n",
        "  authors: \"Author I, Author J\"\n",
        "  journal: \"Journal of Ecology\"\n",
        "  year: 2023\n",
        "  doi: \"https://doi.org/10.1000/j.je.2023.05.005\""
      ],
      "id": "8f41edb0"
    }
  ],
  "metadata": {
    "kernelspec": {
      "name": "python3",
      "language": "python",
      "display_name": "Python 3 (ipykernel)"
    }
  },
  "nbformat": 4,
  "nbformat_minor": 5
}